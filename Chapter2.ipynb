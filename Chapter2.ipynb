{
 "cells": [
  {
   "cell_type": "markdown",
   "metadata": {},
   "source": [
    "#  Exercises from A Primer on Cientific Computation: Chapter 2"
   ]
  },
  {
   "cell_type": "markdown",
   "metadata": {},
   "source": [
    "**Exercise 2.1: Make a Fahrenheit-Celsius conversion table**  \n",
    "Write a Python program that prints out a table with Fahrenheit degrees 0, 10, 20, ... ,\n",
    "100 in the first column and the corresponding Celsius degrees in the second column."
   ]
  },
  {
   "cell_type": "code",
   "execution_count": 43,
   "metadata": {},
   "outputs": [
    {
     "name": "stdout",
     "output_type": "stream",
     "text": [
      "-------------\n",
      "F       C\n",
      "-------------\n",
      "0   -17.78\n",
      "5   -15.00\n",
      "10   -12.22\n",
      "15   -9.44\n",
      "20   -6.67\n",
      "25   -3.89\n",
      "30   -1.11\n",
      "35   1.67\n",
      "40   4.44\n",
      "45   7.22\n",
      "50   10.00\n",
      "55   12.78\n",
      "60   15.56\n",
      "65   18.33\n",
      "70   21.11\n",
      "75   23.89\n",
      "80   26.67\n",
      "85   29.44\n",
      "90   32.22\n",
      "95   35.00\n",
      "100   37.78\n",
      "-------------\n"
     ]
    }
   ],
   "source": [
    "F=0\n",
    "print(\"-------------\")\n",
    "print(\"F       C\")\n",
    "print(\"-------------\")\n",
    "while F<=100:\n",
    "    C = 5.0/9*(F-32)\n",
    "    print(F, \"  %.2f\" % C)\n",
    "    F+=5\n",
    "print(\"-------------\")"
   ]
  },
  {
   "cell_type": "markdown",
   "metadata": {},
   "source": [
    "**Exercise 2.2: Generate an approximate Fahrenheit-Celsius conversion table**  \n",
    "Many people use an approximate formula for quickly converting Fahrenheit (F ) to\n",
    "Celsius (C) degrees:\n",
    "\n",
    "$$C \\approx \\hat{C} = (F - 30)/2$$\n",
    "\n",
    "Modify the program from Exercise 2.1 so that it prints three columns: F , C, and\n",
    "the approximate value C ."
   ]
  },
  {
   "cell_type": "code",
   "execution_count": 23,
   "metadata": {},
   "outputs": [
    {
     "name": "stdout",
     "output_type": "stream",
     "text": [
      "--------------------\n",
      "F       C       Ĉ\n",
      "--------------------\n",
      "0   -17.78   -15.00\n",
      "5   -15.00   -12.50\n",
      "10   -12.22   -10.00\n",
      "15   -9.44   -7.50\n",
      "20   -6.67   -5.00\n",
      "25   -3.89   -2.50\n",
      "30   -1.11   0.00\n",
      "35   1.67   2.50\n",
      "40   4.44   5.00\n",
      "45   7.22   7.50\n",
      "50   10.00   10.00\n",
      "55   12.78   12.50\n",
      "60   15.56   15.00\n",
      "65   18.33   17.50\n",
      "70   21.11   20.00\n",
      "75   23.89   22.50\n",
      "80   26.67   25.00\n",
      "85   29.44   27.50\n",
      "90   32.22   30.00\n",
      "95   35.00   32.50\n",
      "100   37.78   35.00\n",
      "--------------------\n"
     ]
    }
   ],
   "source": [
    "F=0\n",
    "print(\"--------------------\")\n",
    "print(\"F       C       C\\u0302\")\n",
    "print(\"--------------------\")\n",
    "while F<=100:\n",
    "    C = 5.0/9*(F-32)\n",
    "    c = (F - 30)/2 #approximate formula\n",
    "    print(F, \"  %.2f\" % C, \"  %.2f\" %c)\n",
    "    F+=5\n",
    "print(\"--------------------\")"
   ]
  },
  {
   "cell_type": "markdown",
   "metadata": {},
   "source": [
    "**Exercise 2.3: Work with a list**  \n",
    "Set a variable primes to a list containing the numbers 2, 3, 5, 7, 11, and 13. Write\n",
    "out each list element in a for loop. Assign 17 to a variable p and add p to the end\n",
    "of the list. Print out the entire new list."
   ]
  },
  {
   "cell_type": "code",
   "execution_count": 42,
   "metadata": {},
   "outputs": [
    {
     "name": "stdout",
     "output_type": "stream",
     "text": [
      "2 3 5 7 11 13 \n",
      "[2, 3, 5, 7, 11, 13, 17]\n"
     ]
    }
   ],
   "source": [
    "primes = [2, 3, 5, 7, 11, 13]\n",
    "for a in primes:\n",
    "    print(a, end = \" \")\n",
    "print()\n",
    "p = 17\n",
    "primes.append(p)\n",
    "print(primes)"
   ]
  },
  {
   "cell_type": "markdown",
   "metadata": {},
   "source": [
    "**Exercise 2.4: Generate odd numbers**  \n",
    "Write a program that generates all odd numbers from 1 to n. Set n in the beginning\n",
    "of the program and use a while loop to compute the numbers. (Make sure that if n\n",
    "is an even number, the largest generated odd number is n-1.)"
   ]
  },
  {
   "cell_type": "code",
   "execution_count": 36,
   "metadata": {},
   "outputs": [
    {
     "name": "stdout",
     "output_type": "stream",
     "text": [
      "1 3 5 7 9 11 13 15 "
     ]
    }
   ],
   "source": [
    "n = 15\n",
    "i=1\n",
    "while i<=n:\n",
    "    print(i, end=\" \")\n",
    "    i+=2\n",
    "    "
   ]
  },
  {
   "cell_type": "markdown",
   "metadata": {},
   "source": [
    "**Exercise 2.5: Compute the sum of the first n integers**  \n",
    "Write a program that computes the sum of the integers from 1 up to and including\n",
    "n. Compare the result with the famous formula $n(n + 1) / 2$."
   ]
  },
  {
   "cell_type": "code",
   "execution_count": 13,
   "metadata": {},
   "outputs": [
    {
     "name": "stdout",
     "output_type": "stream",
     "text": [
      "Sum = 55\n",
      "Formula = 55.0\n"
     ]
    }
   ],
   "source": [
    "n = 10\n",
    "i = 1\n",
    "s = 0\n",
    "while i <= n:\n",
    "    s += i\n",
    "    i += 1\n",
    "print(\"Sum =\", s)\n",
    "print(\"Formula =\", n*(n+1)/2)"
   ]
  },
  {
   "cell_type": "markdown",
   "metadata": {},
   "source": [
    "**Exercise 2.6: Compute energy levels in an atom**  \n",
    "The n-th energy level for an electron in a Hydrogen atom is given by\n",
    "\n",
    "$$E_n = - \\frac{m_ee^4}{8\\epsilon_{0}^2h^2}\\cdot\\frac{1}{n^2},$$\n",
    "\n",
    "where $m_e = 9.1094\\cdot 10^{-31}\\, kg$ is the electron mass, $e = 1.6022\\cdot 10^{-19}\\, C$ is the elementary charge, $\\epsilon_0 = 8.8542\\cdot10^{-12}\\,C^2s^2kg^{-1}m^{-3}$ is the electrical permittivity of vacuum, and $h = 6.6261\\cdot 10^{-34}Js$:"
   ]
  },
  {
   "cell_type": "markdown",
   "metadata": {},
   "source": [
    "a) Write a Python program that calculates and prints the energy level $E_n$ for $n = 1, ..., 20$."
   ]
  },
  {
   "cell_type": "code",
   "execution_count": 21,
   "metadata": {},
   "outputs": [
    {
     "name": "stdout",
     "output_type": "stream",
     "text": [
      "For n = 1, En = -2.18e-18 J\n",
      "For n = 2, En = -5.45e-19 J\n",
      "For n = 3, En = -2.42e-19 J\n",
      "For n = 4, En = -1.36e-19 J\n",
      "For n = 5, En = -8.72e-20 J\n",
      "For n = 6, En = -6.06e-20 J\n",
      "For n = 7, En = -4.45e-20 J\n",
      "For n = 8, En = -3.41e-20 J\n",
      "For n = 9, En = -2.69e-20 J\n",
      "For n = 10, En = -2.18e-20 J\n",
      "For n = 11, En = -1.80e-20 J\n",
      "For n = 12, En = -1.51e-20 J\n",
      "For n = 13, En = -1.29e-20 J\n",
      "For n = 14, En = -1.11e-20 J\n",
      "For n = 15, En = -9.69e-21 J\n",
      "For n = 16, En = -8.52e-21 J\n",
      "For n = 17, En = -7.54e-21 J\n",
      "For n = 18, En = -6.73e-21 J\n",
      "For n = 19, En = -6.04e-21 J\n",
      "For n = 20, En = -5.45e-21 J\n"
     ]
    }
   ],
   "source": [
    "n = 1\n",
    "m = 9.1094e-31\n",
    "e = 1.6022e-19\n",
    "eps = 8.8542e-12\n",
    "h = 6.6261e-34\n",
    "\n",
    "while n <= 20:\n",
    "    En = -m*e**4/8/eps**2/h**2/n**2\n",
    "    print(\"For n = %d,\" % n, \"En = %.2e J\" % En)\n",
    "    n +=1"
   ]
  },
  {
   "cell_type": "markdown",
   "metadata": {},
   "source": [
    "b) The released energy when an electron moves from level $n_i$ to level $n_f$ is given by  \n",
    "\n",
    "$$\\Delta E = - \\frac{m_ee^4}{8\\epsilon_{0}^2h^2} \\cdot \\bigg(\\frac{1}{n_{i}^2} - \\frac{1}{n_{f}^2} \\bigg)$$\n",
    "\n",
    "Add statements to the program from a) so that it prints a second, nicely formatted table where the cell in column $i$ and row $f$ contains the energy released when an electron moves from energy level $i$ to level $f$ , for $i,\\,f = 1, ..., 5$."
   ]
  },
  {
   "cell_type": "code",
   "execution_count": 44,
   "metadata": {},
   "outputs": [
    {
     "name": "stdout",
     "output_type": "stream",
     "text": [
      "       |    ni = 1    ni = 2    ni = 3   ni = 4    ni = 5\n",
      "-----------------------------------------------------------\n",
      "nf = 1 |  -0.00e+00  1.63e-18  1.94e-18  2.04e-18  2.09e-18  \n",
      "\n",
      "nf = 2 |  -1.63e-18  -0.00e+00  3.03e-19  4.09e-19  4.58e-19  \n",
      "\n",
      "nf = 3 |  -1.94e-18  -3.03e-19  -0.00e+00  1.06e-19  1.55e-19  \n",
      "\n",
      "nf = 4 |  -2.04e-18  -4.09e-19  -1.06e-19  -0.00e+00  4.90e-20  \n",
      "\n",
      "nf = 5 |  -2.09e-18  -4.58e-19  -1.55e-19  -4.90e-20  -0.00e+00  \n",
      "\n"
     ]
    }
   ],
   "source": [
    "ni = 1\n",
    "nf = 1\n",
    "m = 9.1094e-31\n",
    "e = 1.6022e-19\n",
    "eps = 8.8542e-12\n",
    "h = 6.6261e-34\n",
    "\n",
    "print(\"       |    ni = 1    ni = 2    ni = 3   ni = 4    ni = 5\")\n",
    "print(\"-----------------------------------------------------------\")\n",
    "for nf in range(1,6):\n",
    "    for ni in range(1,6):\n",
    "        if ni==1:\n",
    "            print(\"nf = %d |\" % nf, end = \"  \")\n",
    "        DeltaE = -m*e**4/8/eps**2/h**2*(1/ni**2 - 1/nf**2)\n",
    "        print(\"%.2e\" % DeltaE, end=\"  \")\n",
    "    print(\"\\n\")"
   ]
  },
  {
   "cell_type": "markdown",
   "metadata": {},
   "source": [
    "**Exercise 2.7: Generate equally spaced coordinates**  \n",
    "We want to generate $n + 1$ equally spaced x coordinates in [a,b]. Store the coordinates in a list."
   ]
  },
  {
   "cell_type": "markdown",
   "metadata": {},
   "source": [
    " a) Start with an empty list, use a for loop and append each coordinate to the list."
   ]
  },
  {
   "cell_type": "code",
   "execution_count": 16,
   "metadata": {},
   "outputs": [
    {
     "name": "stdout",
     "output_type": "stream",
     "text": [
      "[-6.0, -4.2, -2.4, -0.5999999999999996, 1.2000000000000002, 3.0, 4.800000000000001, 6.6, 8.4, 10.2, 12.0, 13.8, 15.600000000000001, 17.4, 19.2, 21.0]\n"
     ]
    }
   ],
   "source": [
    "a = -6\n",
    "b = 21\n",
    "n = 15\n",
    "list = []\n",
    "\n",
    "for i in range( n + 1):\n",
    "    list.append(a + i*(b-a)/n)\n",
    "print(list)"
   ]
  },
  {
   "cell_type": "markdown",
   "metadata": {},
   "source": [
    "b) Use a list comprehension as an alternative implementation."
   ]
  },
  {
   "cell_type": "code",
   "execution_count": 17,
   "metadata": {},
   "outputs": [
    {
     "name": "stdout",
     "output_type": "stream",
     "text": [
      "[-6.0, -4.2, -2.4, -0.5999999999999996, 1.2000000000000002, 3.0, 4.800000000000001, 6.6, 8.4, 10.2, 12.0, 13.8, 15.600000000000001, 17.4, 19.2, 21.0]\n"
     ]
    }
   ],
   "source": [
    "a = -6\n",
    "b = 21\n",
    "n = 15\n",
    "list = [a + i*(b-a)/n for i in range(n+1)]\n",
    "print(list)"
   ]
  },
  {
   "cell_type": "markdown",
   "metadata": {},
   "source": [
    "**Exercise 2.8: Make a table of values from a formula**  \n",
    "The purpose of this exercise is to write code that prints a nicely formatted table of t\n",
    "and y(t) values, where\n",
    "\n",
    "$$y(t) = v_o\\,t - \\frac{1}{2}g\\,t^2$$  \n",
    "\n",
    "Use n+1 uniformly spaced t values thoughout the interval [0, 2$v_0$/g]"
   ]
  },
  {
   "cell_type": "markdown",
   "metadata": {},
   "source": [
    "a) Use a for loop to produce the table."
   ]
  },
  {
   "cell_type": "code",
   "execution_count": 33,
   "metadata": {},
   "outputs": [
    {
     "name": "stdout",
     "output_type": "stream",
     "text": [
      "  t    |   y\n",
      "-------+------\n",
      "0.00   |  0.00\n",
      "0.10   |  0.46\n",
      "0.20   |  0.82\n",
      "0.31   |  1.07\n",
      "0.41   |  1.22\n",
      "0.51   |  1.27\n",
      "0.61   |  1.22\n",
      "0.71   |  1.07\n",
      "0.82   |  0.82\n",
      "0.92   |  0.46\n",
      "1.02   |  0.00\n",
      "--------------\n"
     ]
    }
   ],
   "source": [
    "v0 = 5\n",
    "g = 9.81\n",
    "n = 10\n",
    "t = []\n",
    "y = []\n",
    "print(\"  t    |   y\")\n",
    "print(\"-------+------\")\n",
    "for i in range(n + 1):\n",
    "    t.append(i*2*v0/g/n)\n",
    "    y.append(v0*t[i] - g*t[i]**2/2)\n",
    "    print(\"%.2f   |  %.2f\" % (t[i], y[i]),)\n",
    "print(\"--------------\")"
   ]
  },
  {
   "cell_type": "markdown",
   "metadata": {},
   "source": [
    "b) Add code with a while loop to produce the table."
   ]
  },
  {
   "cell_type": "code",
   "execution_count": 8,
   "metadata": {},
   "outputs": [
    {
     "name": "stdout",
     "output_type": "stream",
     "text": [
      "  t    |   y\n",
      "-------+------\n",
      "0.00   |  0.00\n",
      "0.10   |  0.46\n",
      "0.20   |  0.82\n",
      "0.31   |  1.07\n",
      "0.41   |  1.22\n",
      "0.51   |  1.27\n",
      "0.61   |  1.22\n",
      "0.71   |  1.07\n",
      "0.82   |  0.82\n",
      "0.92   |  0.46\n",
      "1.02   |  0.00\n",
      "--------------\n"
     ]
    }
   ],
   "source": [
    "v0 = 5\n",
    "g = 9.81\n",
    "n = 10\n",
    "dt = 2*v0/g/n\n",
    "t = 0\n",
    "y = 0\n",
    "print(\"  t    |   y\")\n",
    "print(\"-------+------\")\n",
    "while t<=2*v0/g:\n",
    "    y = v0*t - g*t**2/2\n",
    "    print(\"%.2f   |  %.2f\" % (t, y))\n",
    "    t += dt\n",
    "print(\"--------------\")"
   ]
  },
  {
   "cell_type": "markdown",
   "metadata": {},
   "source": [
    "**Exercise 2.9: Store values from a formula in lists**  \n",
    "This exercise aims to produce the same table of numbers as in Exercise 2.8, but with\n",
    "different code. First, store the t and y values in two lists t and y. Thereafter, write\n",
    "out a nicely formatted table by traversing the two lists with a for loop."
   ]
  },
  {
   "cell_type": "code",
   "execution_count": 7,
   "metadata": {},
   "outputs": [
    {
     "name": "stdout",
     "output_type": "stream",
     "text": [
      "  t   |   y\n",
      "------+------\n",
      "0.00  |  0.00\n",
      "0.10  |  0.46\n",
      "0.20  |  0.82\n",
      "0.31  |  1.07\n",
      "0.41  |  1.22\n",
      "0.51  |  1.27\n",
      "0.61  |  1.22\n",
      "0.71  |  1.07\n",
      "0.82  |  0.82\n",
      "0.92  |  0.46\n",
      "1.02  |  0.00\n"
     ]
    }
   ],
   "source": [
    "v0 = 5\n",
    "g = 9.81\n",
    "n = 10\n",
    "t = [i*2*v0/g/n for i in range(0, n+1)]\n",
    "y = [v0*t[i] - g*t[i]**2/2 for i in range(n+1)]\n",
    "print(\"  t   |   y\")\n",
    "print(\"------+------\")\n",
    "for a, b in zip( t, y):\n",
    "    print(\"%.2f  |  %.2f\" % (a, b))"
   ]
  },
  {
   "cell_type": "markdown",
   "metadata": {},
   "source": [
    "**Exercise 2.10: Simulate operations on lists by hand**  \n",
    "You are given the following program, go through each statement and explain what is printed by the program:"
   ]
  },
  {
   "cell_type": "code",
   "execution_count": 6,
   "metadata": {
    "scrolled": true
   },
   "outputs": [
    {
     "name": "stdout",
     "output_type": "stream",
     "text": [
      "[1, 3, 5, 7, 11, 13, 17]\n",
      "[2, 4, 6, 8, 12]\n",
      "[0, 18]\n",
      "0\n",
      "18\n",
      "2\n",
      "20\n",
      "4\n",
      "22\n",
      "6\n",
      "24\n",
      "10\n",
      "28\n"
     ]
    }
   ],
   "source": [
    "a = [1, 3, 5, 7, 11]\n",
    "b = [13, 17]\n",
    "c = a + b\n",
    "print (c) #prints a list which is the sum of both lists: a and b\n",
    "b[0] = -1 #changes b's first element\n",
    "d = [e+1 for e in a] #same list as a but to each element is added one\n",
    "print (d)\n",
    "d.append(b[0] + 1) \n",
    "d.append(b[-1] + 1) #last two lines add two elements to d, the first 0 and the second 18\n",
    "print(d[-2:]) #prints last two elements from d\n",
    "for e1 in a:\n",
    "    for e2 in b:\n",
    "        print (e1 + e2) #prints all sums from elements in a and b (10)"
   ]
  },
  {
   "cell_type": "markdown",
   "metadata": {},
   "source": [
    "**Exercise 2.11: Compute a mathematical sum**  \n",
    "The following code is supposed to compute the sum $\\sum_{k=1}^{M} \\frac{1}{k}$"
   ]
  },
  {
   "cell_type": "code",
   "execution_count": 5,
   "metadata": {},
   "outputs": [
    {
     "ename": "KeyboardInterrupt",
     "evalue": "",
     "output_type": "error",
     "traceback": [
      "\u001b[1;31m---------------------------------------------------------------------------\u001b[0m",
      "\u001b[1;31mKeyboardInterrupt\u001b[0m                         Traceback (most recent call last)",
      "\u001b[1;32m<ipython-input-5-8756e5a33abc>\u001b[0m in \u001b[0;36m<module>\u001b[1;34m\u001b[0m\n\u001b[0;32m      1\u001b[0m \u001b[0ms\u001b[0m \u001b[1;33m=\u001b[0m \u001b[1;36m0\u001b[0m\u001b[1;33m;\u001b[0m \u001b[0mk\u001b[0m \u001b[1;33m=\u001b[0m \u001b[1;36m1\u001b[0m\u001b[1;33m;\u001b[0m \u001b[0mM\u001b[0m \u001b[1;33m=\u001b[0m \u001b[1;36m100\u001b[0m\u001b[1;33m\u001b[0m\u001b[1;33m\u001b[0m\u001b[0m\n\u001b[0;32m      2\u001b[0m \u001b[1;32mwhile\u001b[0m \u001b[0mk\u001b[0m \u001b[1;33m<\u001b[0m \u001b[0mM\u001b[0m\u001b[1;33m:\u001b[0m\u001b[1;33m\u001b[0m\u001b[1;33m\u001b[0m\u001b[0m\n\u001b[1;32m----> 3\u001b[1;33m     \u001b[0ms\u001b[0m \u001b[1;33m+=\u001b[0m \u001b[1;36m1\u001b[0m\u001b[1;33m/\u001b[0m\u001b[0mk\u001b[0m\u001b[1;33m\u001b[0m\u001b[1;33m\u001b[0m\u001b[0m\n\u001b[0m\u001b[0;32m      4\u001b[0m \u001b[0mprint\u001b[0m \u001b[1;33m(\u001b[0m\u001b[0ms\u001b[0m\u001b[1;33m)\u001b[0m\u001b[1;33m\u001b[0m\u001b[1;33m\u001b[0m\u001b[0m\n",
      "\u001b[1;31mKeyboardInterrupt\u001b[0m: "
     ]
    }
   ],
   "source": [
    "s = 0; k = 1; M = 100\n",
    "while k < M:\n",
    "s += 1/k\n",
    "print (s)"
   ]
  },
  {
   "cell_type": "markdown",
   "metadata": {},
   "source": [
    "This program does not work correctly. What are the three errors? (If you try to run\n",
    "the program, nothing will happen on the screen. Type Ctrl+c, i.e., hold down the\n",
    "Control (Ctrl) key and then type the c key, to stop the program.) Write a correct\n",
    "program."
   ]
  },
  {
   "cell_type": "code",
   "execution_count": 7,
   "metadata": {},
   "outputs": [
    {
     "name": "stdout",
     "output_type": "stream",
     "text": [
      "1.0\n",
      "1.5\n",
      "1.8333333333333333\n",
      "2.083333333333333\n",
      "2.283333333333333\n",
      "2.4499999999999997\n",
      "2.5928571428571425\n",
      "2.7178571428571425\n",
      "2.8289682539682537\n"
     ]
    }
   ],
   "source": [
    "s = 0; k = 1; M = 10\n",
    "while k < M:\n",
    "    s += 1/k\n",
    "    k += 1\n",
    "    print (s)"
   ]
  },
  {
   "cell_type": "markdown",
   "metadata": {},
   "source": [
    "**Exercise 2.12: Replace a while loop by a for loop**  \n",
    "Rewrite the corrected version of the program in Exercise 2.11 using a for loop over\n",
    "k values instead of a while loop."
   ]
  },
  {
   "cell_type": "code",
   "execution_count": 10,
   "metadata": {},
   "outputs": [
    {
     "name": "stdout",
     "output_type": "stream",
     "text": [
      "1.0\n",
      "1.5\n",
      "1.8333333333333333\n",
      "2.083333333333333\n",
      "2.283333333333333\n",
      "2.4499999999999997\n",
      "2.5928571428571425\n",
      "2.7178571428571425\n",
      "2.8289682539682537\n"
     ]
    }
   ],
   "source": [
    "s = 0; M = 10\n",
    "for k in range(1, M):\n",
    "    s += 1/k\n",
    "    print (s)"
   ]
  },
  {
   "cell_type": "markdown",
   "metadata": {},
   "source": [
    "**Exercise 2.13: Simulate a program by hand**  \n",
    "Consider the following program for computing with interest rates:"
   ]
  },
  {
   "cell_type": "code",
   "execution_count": null,
   "metadata": {},
   "outputs": [],
   "source": [
    "initial_amount = 100\n",
    "p = 5.5 # interest rate\n",
    "amount = initial_amount\n",
    "years = 0\n",
    "while amount <= 1.5*initial_amount:\n",
    "    amount = amount + p/100*amount\n",
    "    years = years + 1\n",
    "print years"
   ]
  },
  {
   "cell_type": "markdown",
   "metadata": {},
   "source": [
    "a) Use a pocket calculator or an interactive Python shell and work through the\n",
    "program calculations by hand. Write down the value of amount and years in\n",
    "each pass of the loop.  \n",
    "b) Set p = 5 instead. Why will the loop now run forever? (Apply Ctrl+c, see Exercise\n",
    "2.11, to stop a program with a loop that runs forever.) Make the program\n",
    "robust against such errors.  \n",
    "c) Make use of the operator += wherever possible in the program.  \n",
    "d) Explain with words what type of mathematical problem that is solved by this\n",
    "program."
   ]
  },
  {
   "cell_type": "code",
   "execution_count": 19,
   "metadata": {},
   "outputs": [
    {
     "name": "stdout",
     "output_type": "stream",
     "text": [
      "9\n"
     ]
    }
   ],
   "source": [
    "initial_amount = 100\n",
    "p = 5 # interest rate\n",
    "amount = initial_amount\n",
    "years = 0\n",
    "while amount <= 1.5*initial_amount:\n",
    "    amount += p/100*amount\n",
    "    years += 1\n",
    "print (years) #it works well for me"
   ]
  },
  {
   "cell_type": "markdown",
   "metadata": {},
   "source": [
    "**Exercise 2.14: Explore Python documentation** \n",
    "Suppose you want to compute with the inverse sine function: $sin(x)^{-1}$. How do you\n",
    "do that in a Python program?"
   ]
  },
  {
   "cell_type": "code",
   "execution_count": 20,
   "metadata": {},
   "outputs": [
    {
     "name": "stdout",
     "output_type": "stream",
     "text": [
      "0.2013579207903308\n"
     ]
    }
   ],
   "source": [
    "from math import asin\n",
    "print(asin(0.2))"
   ]
  },
  {
   "cell_type": "markdown",
   "metadata": {},
   "source": [
    "**Exercise 2.15: Index a nested list**  \n",
    "We define the following nested list:  \n",
    "q = [[’a’, ’b’, ’c’], [’d’, ’e’, ’f’], [’g’, ’h’]]  \n",
    "a) Index this list to extract 1) the letter a; 2) the list [’d’, ’e’, ’f’]; 3) the last\n",
    "element h; 4) the d element. Explain why q[-1][-2] has the value g.  \n"
   ]
  },
  {
   "cell_type": "markdown",
   "metadata": {},
   "source": [
    "b) We can visit all elements of q using this nested for loop:"
   ]
  },
  {
   "cell_type": "code",
   "execution_count": 27,
   "metadata": {},
   "outputs": [
    {
     "name": "stdout",
     "output_type": "stream",
     "text": [
      "abcdefgh"
     ]
    }
   ],
   "source": [
    "q = [[\"a\", \"b\", 'c'], ['d', 'e', 'f'], ['g', 'h']]\n",
    "for i in q:\n",
    "    for j in range(len(i)):\n",
    "        print (i[j], end =\"\")"
   ]
  },
  {
   "cell_type": "markdown",
   "metadata": {},
   "source": [
    "What type of objects are i and j?  \n",
    "    i is a list and j is an integer index"
   ]
  },
  {
   "cell_type": "markdown",
   "metadata": {},
   "source": [
    "**Exercise 2.16: Store data in lists**  \n",
    "Modify the program from Exercise 2.2 so that all the F , C, and $\\hat{C}$ values are\n",
    "stored in separate lists F, C, and C_approx, respectively. Then make a nested list\n",
    "conversion so that conversion[i] holds a row in the table: [F[i], C[i],\n",
    "C_approx[i]]. Finally, let the program traverse the conversion list and write\n",
    "out the same table as in Exercise 2.2."
   ]
  },
  {
   "cell_type": "code",
   "execution_count": null,
   "metadata": {},
   "outputs": [],
   "source": []
  }
 ],
 "metadata": {
  "kernelspec": {
   "display_name": "Python 3",
   "language": "python",
   "name": "python3"
  },
  "language_info": {
   "codemirror_mode": {
    "name": "ipython",
    "version": 3
   },
   "file_extension": ".py",
   "mimetype": "text/x-python",
   "name": "python",
   "nbconvert_exporter": "python",
   "pygments_lexer": "ipython3",
   "version": "3.7.4"
  }
 },
 "nbformat": 4,
 "nbformat_minor": 2
}
