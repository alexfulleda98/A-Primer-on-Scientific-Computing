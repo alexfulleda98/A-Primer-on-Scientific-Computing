{
 "cells": [
  {
   "cell_type": "markdown",
   "metadata": {},
   "source": [
    "# Exercises from A Primer on Cientific Computation: Chapter 1"
   ]
  },
  {
   "cell_type": "markdown",
   "metadata": {},
   "source": [
    "**Exercise 1.1: Compute 1+1**  \n",
    "The first exercise concerns some very basic mathematics and programming: assign\n",
    "the result of $1+1$ to a variable and print the value of that variable."
   ]
  },
  {
   "cell_type": "code",
   "execution_count": 2,
   "metadata": {},
   "outputs": [
    {
     "name": "stdout",
     "output_type": "stream",
     "text": [
      "2\n"
     ]
    }
   ],
   "source": [
    "two= 1 + 1\n",
    "print(two)"
   ]
  },
  {
   "cell_type": "markdown",
   "metadata": {},
   "source": [
    "**Exercise 1.2: Write a Hello World program**  \n",
    "Almost all books about programming languages start with a very simple program\n",
    "that prints the text Hello, World! to the screen. Make such a program in Python."
   ]
  },
  {
   "cell_type": "code",
   "execution_count": 3,
   "metadata": {},
   "outputs": [
    {
     "name": "stdout",
     "output_type": "stream",
     "text": [
      "hello world\n"
     ]
    }
   ],
   "source": [
    "print(\"hello world\")"
   ]
  },
  {
   "cell_type": "markdown",
   "metadata": {},
   "source": [
    "**Exercise 1.3: Derive and compute a formula**  \n",
    "Can a newborn baby in Norway expect to live for one billion ($10^9$) seconds? Write\n",
    "a Python program for doing arithmetics to answer the question."
   ]
  },
  {
   "cell_type": "code",
   "execution_count": 4,
   "metadata": {},
   "outputs": [
    {
     "name": "stdout",
     "output_type": "stream",
     "text": [
      "31.709791983764582\n",
      "Yes, he/she can\n"
     ]
    }
   ],
   "source": [
    "secs = 10**9\n",
    "mins = secs/60\n",
    "hours = mins/60\n",
    "days = hours/24\n",
    "yrs = days/365\n",
    "print(yrs)\n",
    "if yrs < 120:\n",
    "    print(\"Yes, he/she can\")\n",
    "else:\n",
    "    print(\"No, he/she can't\")"
   ]
  },
  {
   "cell_type": "markdown",
   "metadata": {},
   "source": [
    "**Exercise 1.4: Convert from meters to British length units**  \n",
    "Make a program where you set a length given in meters and then compute and write\n",
    "out the corresponding length measured in inches, in feet, in yards, and in miles. Use\n",
    "that one inch is 2.54 cm, one foot is 12 inches, one yard is 3 feet, and one British\n",
    "mile is 1760 yards. For verification, a length of 640 meters corresponds to 25196.85\n",
    "inches, 2099.74 feet, 699.91 yards, or 0.3977 miles."
   ]
  },
  {
   "cell_type": "code",
   "execution_count": 14,
   "metadata": {},
   "outputs": [
    {
     "name": "stdout",
     "output_type": "stream",
     "text": [
      "Introduce distance in meters 640\n",
      "A lenght of 640.0 meters corresponds to 25196.850393700788 inches, 2099.737532808399 foot, 699.912510936133 yards or  0.3976775630318938 miles.\n"
     ]
    }
   ],
   "source": [
    "distance = float(input(\"Introduce distance in meters \"))\n",
    "inchs = distance/0.0254\n",
    "ft = inchs/12\n",
    "yrds = ft/3\n",
    "mls = yrds/1760\n",
    "print( \"A lenght of\", distance, \"meters corresponds to\", inchs, \"inches,\", ft, \"foot,\", yrds, \"yards or \", mls, \"miles.\" )"
   ]
  },
  {
   "cell_type": "markdown",
   "metadata": {},
   "source": [
    "**Exercise 1.5: Compute the mass of various substances**  \n",
    "The density of a substance is defined as $\\rho = m/V$ , where $m$ is the mass of a volume\n",
    "$V$ . Compute and print out the mass of one liter of each of the following substances\n",
    "whose densities in $g/cm^3$ are found in the file *src/files/densities.dat6*: iron,\n",
    "air, gasoline, ice, the human body, silver, and platinum."
   ]
  },
  {
   "cell_type": "markdown",
   "metadata": {},
   "source": [
    "File not found so I will not do this"
   ]
  },
  {
   "cell_type": "markdown",
   "metadata": {},
   "source": [
    "**Exercise 1.6: Compute the growth of money in a bank**  \n",
    "Let p be a bank’s interest rate in percent per year. An initial amount A has then\n",
    "grown to  \n",
    "\n",
    "$$ A \\bigg( 1 + \\frac{p}{100} \\bigg)^n$$  \n",
    "after n years. Make a program for computing how much money 1000 euros have\n",
    "grown to after three years with 5 percent interest rate."
   ]
  },
  {
   "cell_type": "code",
   "execution_count": 16,
   "metadata": {},
   "outputs": [
    {
     "name": "stdout",
     "output_type": "stream",
     "text": [
      "1157.6250000000002\n"
     ]
    }
   ],
   "source": [
    "A = 1000\n",
    "n =3\n",
    "p=5\n",
    "B= A*(1+p/100)**n\n",
    "print(B)"
   ]
  },
  {
   "cell_type": "markdown",
   "metadata": {},
   "source": [
    "**Exercise 1.7: Find error(s) in a program**  \n",
    "Suppose somebody has written a simple one-line program for computing sin(1):  \n",
    "x=1; print ’sin(%g)=%g’ % (x, sin(x))  \n",
    "Create this program and try to run it. What is the problem?"
   ]
  },
  {
   "cell_type": "code",
   "execution_count": 29,
   "metadata": {},
   "outputs": [
    {
     "name": "stdout",
     "output_type": "stream",
     "text": [
      "sin( 1 )= 0.841471 \n"
     ]
    }
   ],
   "source": [
    "from math import sin\n",
    "x=1; print( \"sin( %g )= %g \" % (x, sin(x)))"
   ]
  },
  {
   "cell_type": "markdown",
   "metadata": {},
   "source": [
    "**Exercise 1.8: Type in program text**  \n",
    "Type the following program in your editor and execute it. If your program does not\n",
    "work, check that you have copied the code correctly."
   ]
  },
  {
   "cell_type": "code",
   "execution_count": 32,
   "metadata": {},
   "outputs": [
    {
     "name": "stdout",
     "output_type": "stream",
     "text": [
      "The area of the parallelogram is 10.000\n",
      "The area of the square is 4\n",
      "The area of the circle is 7.069\n",
      "The volume of the cone is 11.781\n"
     ]
    }
   ],
   "source": [
    "from math import pi\n",
    "h = 5.0 # height\n",
    "b = 2.0 # base\n",
    "r = 1.5 # radius\n",
    "area_parallelogram = h*b\n",
    "print ('The area of the parallelogram is %.3f' % area_parallelogram)\n",
    "area_square = b**2\n",
    "print ('The area of the square is %g' % area_square)\n",
    "area_circle = pi*r**2\n",
    "print ('The area of the circle is %.3f' % area_circle)\n",
    "volume_cone = 1.0/3*pi*r**2*h\n",
    "print ('The volume of the cone is %.3f' % volume_cone)"
   ]
  },
  {
   "cell_type": "markdown",
   "metadata": {},
   "source": [
    "**Exercise 1.9: Type in programs and debug them** \n",
    "Type these short programs in your editor and execute them. When they do not work,\n",
    "identify and correct the erroneous statements."
   ]
  },
  {
   "cell_type": "markdown",
   "metadata": {},
   "source": [
    "a) Does $sin(x)^2 + cos(x)^2 = 1$?"
   ]
  },
  {
   "cell_type": "code",
   "execution_count": 41,
   "metadata": {},
   "outputs": [
    {
     "name": "stdout",
     "output_type": "stream",
     "text": [
      "1.0000000000000002\n"
     ]
    }
   ],
   "source": [
    "from math import sin, cos, pi\n",
    "x = pi/4\n",
    "val1 = math.sin(x)**2 + math.cos(x)**2\n",
    "print (val1)"
   ]
  },
  {
   "cell_type": "markdown",
   "metadata": {},
   "source": [
    "b) Compute s in meters when $s = v_0 t + \\frac{1}{2} a\\,t^2$, with $v_0 = 3$ m/s, $t = 1$ s, $a =\n",
    "2$ $m/s^2$."
   ]
  },
  {
   "cell_type": "code",
   "execution_count": 44,
   "metadata": {},
   "outputs": [
    {
     "name": "stdout",
     "output_type": "stream",
     "text": [
      "4.0\n"
     ]
    }
   ],
   "source": [
    "v0 = 3 #m/s\n",
    "t = 1 #s\n",
    "a = 2 #m/s**2\n",
    "s = v0*t + 0.5*a*t**2\n",
    "print (s)"
   ]
  },
  {
   "cell_type": "markdown",
   "metadata": {},
   "source": [
    "c) Verify these equations:\n",
    "\n",
    "  $$(a + b)^2 = a^2 + 2ab + b^2 $$  \n",
    "  $$(a - b)^2 = a^2 - 2ab + b^2 $$"
   ]
  },
  {
   "cell_type": "code",
   "execution_count": 52,
   "metadata": {},
   "outputs": [
    {
     "name": "stdout",
     "output_type": "stream",
     "text": [
      "First equation: 73.96 = 73.96\n",
      "Second equation: 4 = 4\n"
     ]
    }
   ],
   "source": [
    "a = 3.3; b = 5.3\n",
    "a2 = a**2; b2 = b**2\n",
    "eq1_sum = a2 + 2*a*b + b2\n",
    "eq2_sum = a2 - 2*a*b + b2\n",
    "eq1_pow = (a + b)**2\n",
    "eq2_pow = (a - b)**2\n",
    "print ('First equation: %g = %g' % (eq1_sum, eq1_pow))\n",
    "print ('Second equation: %g = %g' % (eq2_sum, eq2_pow))"
   ]
  },
  {
   "cell_type": "markdown",
   "metadata": {},
   "source": [
    "**Exercise 1.10: Evaluate a Gaussian function**  \n",
    "The bell-shaped Gaussian function,\n",
    "\n",
    "$$f(x) = \\frac{1}{\\sqrt{2\\pi}s}exp\\bigg[-\\frac{1}{2}\\bigg(\\frac{x-m}{s}\\bigg)^2\\bigg]$$  \n",
    "is one of the most widely used functions in science and technology. The parameters\n",
    "m and s > 0 are prescribed real numbers. Make a program for evaluating this\n",
    "function when m=0, s=2, and x=1. Verify the program’s result by comparing\n",
    "with hand calculations on a calculator."
   ]
  },
  {
   "cell_type": "code",
   "execution_count": 54,
   "metadata": {},
   "outputs": [
    {
     "name": "stdout",
     "output_type": "stream",
     "text": [
      "0.3520653267642995\n"
     ]
    }
   ],
   "source": [
    "from math import *\n",
    "m=0; s=2; x=1\n",
    "f= 1/sqrt(2*pi)*exp(-(((x-m)/s)**2)/2)\n",
    "print(f)"
   ]
  },
  {
   "cell_type": "markdown",
   "metadata": {},
   "source": [
    "**Exercise 1.11: Compute the air resistance on a football**  \n",
    "The drag force, due to air resistance, on an object can be expressed as\n",
    "\n",
    "$$F_d = \\frac{1}{2}C_D\\rho AV^2$$\n",
    "where $\\rho$ is the density of the air, $V$ is the velocity of the object, $A$ is the crosssectional area (normal to the velocity direction), and $C_D$ is the drag coefficient, which depends heavily on the shape of the object and the roughness of the surface.  \n",
    "    The gravity force on an object with mass m is $F_g = mg$, where $g = 9.81 m/s^2$.\n",
    "    We can use the formulas for $F_d$ and $F_g$ to study the importance of air resistance versus gravity when kicking a football. The density of air is $\\rho = 1.2 kg/m^3$. We have $A = \\pi a^2$ for any ball with radius a. For a football, $a = 11 cm $ and the mass is 0.43 kg. The drag coefficient $C_D$ varies with the velocity and can be taken as 0.4.  \n",
    "    Make a program that computes the drag force and the gravity force on a football. Write out the forces with one decimal in units of Newton ($N = kg\\,m/s^2$). Also print the ratio of the drag force and the gravity force. Define $C_D$, $\\rho$, A, V , m, g, $F_d$, and $F_g$ as variables, and put a comment with the corresponding unit. Use the program to calculate the forces on the ball for a hard kick, $V = 120 km/h$ and for a soft kick, $V = 30 km/h$ (it is easy to mix inconsistent units, so make sure you compute with V expressed in m/s)."
   ]
  },
  {
   "cell_type": "code",
   "execution_count": 11,
   "metadata": {},
   "outputs": [
    {
     "name": "stdout",
     "output_type": "stream",
     "text": [
      "Fg= 4.2 N Fd1= 20.3 N r1=4.8 Fd2=1.3 N r2=0.3\n"
     ]
    }
   ],
   "source": [
    "from math import pi\n",
    "a=0.11 #m (radius)\n",
    "A= pi*a**2 #m^2 (area)\n",
    "m=0.43 #kg\n",
    "g=9.81 #m/s^2\n",
    "rho=1.2 #kg/m^3\n",
    "Cd=0.4\n",
    "V1=120 #km/h\n",
    "V2=30 #km/h\n",
    "\n",
    "#Converting velocities to m/s\n",
    "\n",
    "v1=V1/3.6\n",
    "v2=V2/3.6\n",
    "\n",
    "#Calculating Forces\n",
    "\n",
    "Fg=m*g\n",
    "Fd1=Cd*rho*A*v1**2\n",
    "Fd2=Cd*rho*A*v2**2\n",
    "r1=Fd1/Fg\n",
    "r2=Fd2/Fg\n",
    "\n",
    "#Printing results\n",
    "\n",
    "print(\"Fg= %.1f N Fd1= %.1f N r1=%.1f Fd2=%.1f N r2=%.1f\" % (Fg, Fd1, r1, Fd2, r2))"
   ]
  },
  {
   "cell_type": "markdown",
   "metadata": {},
   "source": [
    "**Exercise 1.12: How to cook the perfect egg**\n",
    "As an egg cooks, the proteins first denature and then coagulate. When the temperature exceeds a critical point, reactions begin and proceed faster as the temperature increases. In the egg white, the proteins start to coagulate for temperatures above\n",
    "63ºC, while in the yolk the proteins start to coagulate for temperatures above 70ºC.\n",
    "For a soft boiled egg, the white needs to have been heated long enough to coagulate at a temperature above 63ºC, but the yolk should not be heated above 70ºC. Fora hard boiled egg, the center of the yolk should be allowed to reach 70ºC.\n",
    "The following formula expresses the time t it takes (in seconds) for the center of the yolk to reach the temperature Ty (in Celsius degrees):\n",
    "\n",
    "$$ t = \\frac{M^{2/3}cp^{1/3}}{K\\pi^2(4\\pi/3)^{2/3}}ln\\bigg[0.76\\frac{T_0-T_w}{T_y-T_w}\\bigg]$$\n",
    "Here, M, $\\rho$, c, and K are properties of the egg: M is the mass, $\\rho$ is the density, c is the specific heat capacity, and K is thermal conductivity. Relevant values are M = 47 g for a small egg and $M = 67$ g for a large egg, $\\rho = 1.038 gcm^3$, $c = 3.7 J g^{-1} K^{-1}$, and $K = 5.4\\cdot 10^{-3}Wcm^{-1} K^{-1}$. Furthermore, Tw is the temperature (in C degrees) of the boiling water, and To is the original temperature (in C degrees)\n",
    "of the egg before being put in the water. Implement the formula in a program, set $T_w = 100ºC$ and $T_y = 70 ºC$, and compute t for a large egg taken from the fridge ($T_o = 4ºC$) and from room temperature ($T_o = 20ºC$)."
   ]
  },
  {
   "cell_type": "code",
   "execution_count": 17,
   "metadata": {},
   "outputs": [
    {
     "name": "stdout",
     "output_type": "stream",
     "text": [
      "5.836928512809857\n"
     ]
    }
   ],
   "source": [
    "from math import *\n",
    "M = 67. #g\n",
    "rho = 1.038 #g/cm^3\n",
    "c = 3.7 #J/gK\n",
    "K = 0.0054 #W/cmK\n",
    "Tw = 100.\n",
    "Ty = 70.\n",
    "To = 4.\n",
    "\n",
    "t = (M**(2/3)*c*rho**(-3))/(K*pi**(2)*(4*pi/3)**(2/3))*log(0.76*(To - Tw)/(Ty - Tw))\n",
    "\n",
    "mins= t/60\n",
    "print(mins)"
   ]
  },
  {
   "cell_type": "markdown",
   "metadata": {},
   "source": [
    "**Exercise 1.13: Derive the trajectory of a ball**\n",
    "The purpose of this exercise is to explain how Equation (1.6) for the trajectory of\n",
    "a ball arises from basic physics. There is no programming in this exercise, just\n",
    "physics and mathematics.\n",
    "The motion of the ball is governed by Newton’s second law:\n",
    "\n",
    "$$F_x = ma_x$$\n",
    "$$F_y = ma_y$$\n",
    "\n",
    "where Fx and Fy are the sum of forces in the x and y directions, respectively, ax\n",
    "and ay are the accelerations of the ball in the x and y directions, and m is the mass of the ball. Let (x(t), y(t)) be the position of the ball, i.e., the horizontal and vertical coordinate of the ball at time t . There are well-known relations between acceleration, velocity, and position: the acceleration is the time derivative of the velocity, and the velocity is the time derivative of the position. Therefore we have\n",
    "\n",
    "$$a_x = \\frac{d^2x}{dt^2},$$\n",
    "$$a_y = \\frac{d^2y}{dt^2}.$$\n",
    "\n",
    "If we assume that gravity is the only important force on the ball, $F_x = 0$ and $F_y = -mg$.\n",
    "Integrate the two components of Newton’s second law twice. Use the initial conditions on velocity and position,\n",
    "\n",
    "$$\\frac{d}{dt}x(0) = v_o \\cos{\\theta},$$\n",
    "$$\\frac{d}{dt}y(0) = v_o \\sin{\\theta},$$\n",
    "$$x(0) = 0,$$\n",
    "$$y(0) = y_0$$\n",
    "\n",
    "to determine the four integration constants. Write up the final expressions for x(t) and y(t). Show that if $\\theta = \\pi/2$, i.e., the motion is purely vertical, we get the formula (1.1) for the y position. Also show that if we eliminate t , we end up with\n",
    "the relation (1.6) between the x and y coordinates of the ball."
   ]
  },
  {
   "cell_type": "code",
   "execution_count": 49,
   "metadata": {},
   "outputs": [
    {
     "name": "stdout",
     "output_type": "stream",
     "text": [
      "  x= t*vo*cos(theta) \n",
      "  y= -g*t**2/2 + t*vo*sin(theta) + y0\n",
      "x= 6.12323399573677e-17*t*vo\n",
      "y= -0.5*g*t**2 + 1.0*t*vo + y0\n"
     ]
    }
   ],
   "source": [
    "from sympy import *\n",
    "from numpy import pi\n",
    "\n",
    "x, y, t, vo, theta, y0, m, g = symbols(\"x y t vo theta y0 m g\")\n",
    "\n",
    "#initial conditions\n",
    "vox = vo * cos(theta)\n",
    "xo = 0\n",
    "voy = vo * sin(theta)\n",
    "yo = y0\n",
    "\n",
    "#x-Equations\n",
    "ax = 0\n",
    "vx = integrate(ax, t) + vox\n",
    "x = integrate(vx, t) + xo\n",
    "\n",
    "#y-Equations\n",
    "\n",
    "ay = -g\n",
    "vy = integrate(ay, t) + voy\n",
    "y = integrate(vy, t) + yo\n",
    "print(\"  x=\",x, \"\\n\", \" y=\", y)\n",
    "\n",
    "x = lambdify(theta, x)\n",
    "y = lambdify(theta, y)\n",
    "\n",
    "print(\"x=\",x(pi/2))\n",
    "print(\"y=\",y(pi/2))"
   ]
  },
  {
   "cell_type": "markdown",
   "metadata": {},
   "source": [
    "**Exercise 1.14: Find errors in the coding of formulas**  \n",
    "Some versions of our program for calculating the formula (1.3) are listed below.\n",
    "Find the versions that will not work correctly and explain why in each case."
   ]
  },
  {
   "cell_type": "code",
   "execution_count": 53,
   "metadata": {},
   "outputs": [
    {
     "name": "stdout",
     "output_type": "stream",
     "text": [
      "69.80000000000001\n",
      "69.80000000000001\n",
      "69.8\n",
      "69.80000000000001\n",
      "69.8\n",
      "69.8\n",
      "69.80000000000001\n",
      "69.80000000000001\n"
     ]
    }
   ],
   "source": [
    "C = 21; F = 9/5*C + 32; print (F)\n",
    "C = 21.0; F = (9/5)*C + 32; print (F)\n",
    "C = 21.0; F = 9*C/5 + 32; print (F)\n",
    "C = 21.0; F = 9.*(C/5.0) + 32; print (F)\n",
    "C = 21.0; F = 9.0*C/5.0 + 32; print (F)\n",
    "C = 21; F = 9*C/5 + 32; print (F)\n",
    "C = 21.0; F = (1/5)*9*C + 32; print (F)\n",
    "C = 21; F = (1./5)*9*C + 32; print (F)\n",
    "\n",
    "#All work because of python 3"
   ]
  },
  {
   "cell_type": "markdown",
   "metadata": {},
   "source": [
    "**Exercise 1.15: Explain why a program does not work**  \n",
    "Figure out why the following program does not work:  \n",
    "C = A + B  \n",
    "A = 3  \n",
    "B = 2  \n",
    "print C"
   ]
  },
  {
   "cell_type": "code",
   "execution_count": 55,
   "metadata": {},
   "outputs": [
    {
     "name": "stdout",
     "output_type": "stream",
     "text": [
      "5\n"
     ]
    }
   ],
   "source": [
    "#equation must be after the variables\n",
    "\n",
    "A = 3\n",
    "B = 2\n",
    "C = A + B\n",
    "print (C)\n"
   ]
  },
  {
   "cell_type": "markdown",
   "metadata": {},
   "source": [
    "**Exercise 1.16: Find errors in Python statements**  \n",
    "Try the following statements in an interactive Python shell. Explain why some\n",
    "statements fail and correct the errors."
   ]
  },
  {
   "cell_type": "code",
   "execution_count": null,
   "metadata": {},
   "outputs": [],
   "source": [
    "#1a = 2 #variables cannot start with numbers\n",
    "a1 = 2\n",
    "\n",
    "#a1 = b, b is not a variable yet, if it's a string should be between \"\"\n",
    "\n",
    "x = 2\n",
    "#y = X + 4 python discriminates between x and X\n",
    "y = x + 4\n",
    "\n",
    "#from Math import tan, lowercase\n",
    "from math import tan\n",
    "print (tan(pi))\n",
    "pi = \"3.14159’\n",
    "print tan(pi)\n",
    "\n",
    "c = 4**3**2**3\n",
    "_ = ((c-78564)/c + 32))\n",
    "discount = 12%\n",
    "AMOUNT = 120.-\n",
    "amount = 120$\n",
    "address = hpl@simula.no\n",
    "and = duck\n",
    "class = ’INF1100, gr 2\"\n",
    "continue_ = x > 0\n",
    "rev = fox = True\n",
    "Norwegian = [’a human language’]\n",
    "true = fox is rev in Norwegian"
   ]
  },
  {
   "cell_type": "markdown",
   "metadata": {},
   "source": [
    "**Exercise 1.17: Find errors in the coding of a formula**  \n",
    "Given a quadratic equation,  \n",
    "\n",
    "$$ax^2 + bx + c = 0$$  \n",
    "\n",
    "the two roots are\n",
    "\n",
    "$$x_1 = \\frac{-b + \\sqrt{b^2 - 4ac}}{2a},\\,\\,\\,x_2 = \\frac{-b - \\sqrt{b^2 - 4ac}}{2a}$$\n",
    "\n",
    "What are the problems with the following program?"
   ]
  },
  {
   "cell_type": "code",
   "execution_count": 60,
   "metadata": {},
   "outputs": [
    {
     "name": "stdout",
     "output_type": "stream",
     "text": [
      "(-1+3.872983346207417j) (-1-3.872983346207417j)\n"
     ]
    }
   ],
   "source": [
    "from cmath import sqrt #negative sqrt so we import cmath instead\n",
    "a = 2; b = 1; c = 2\n",
    "q = b*b - 4*a*c\n",
    "q_sr = sqrt(q)\n",
    "x1 = (-b + q_sr)/2*a\n",
    "x2 = (-b - q_sr)/2*a\n",
    "print (x1, x2)"
   ]
  },
  {
   "cell_type": "markdown",
   "metadata": {},
   "source": [
    "**Exercise 1.18: Find errors in a program**  \n",
    "What is the problem in the following program?"
   ]
  },
  {
   "cell_type": "code",
   "execution_count": 63,
   "metadata": {},
   "outputs": [
    {
     "name": "stdout",
     "output_type": "stream",
     "text": [
      "0.9999999999999999 1.7320508075688767\n"
     ]
    }
   ],
   "source": [
    "from math import pi, tan\n",
    "tan1 = tan(pi/4)\n",
    "tan2 = tan(pi/3)\n",
    "print (tan1, tan2)"
   ]
  }
 ],
 "metadata": {
  "kernelspec": {
   "display_name": "Python 3",
   "language": "python",
   "name": "python3"
  },
  "language_info": {
   "codemirror_mode": {
    "name": "ipython",
    "version": 3
   },
   "file_extension": ".py",
   "mimetype": "text/x-python",
   "name": "python",
   "nbconvert_exporter": "python",
   "pygments_lexer": "ipython3",
   "version": "3.9.10"
  }
 },
 "nbformat": 4,
 "nbformat_minor": 2
}
